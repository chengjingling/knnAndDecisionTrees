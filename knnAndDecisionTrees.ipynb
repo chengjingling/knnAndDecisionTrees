{
 "cells": [
  {
   "cell_type": "markdown",
   "id": "2850f80a",
   "metadata": {},
   "source": [
    "# Midterm Coursework\n",
    "This coursework implements 2 machine learning algorithms, k-Nearest Neighbors (kNN) and Decision Trees, and tests their accuracy in predicting data."
   ]
  },
  {
   "cell_type": "markdown",
   "id": "0d18f0bc",
   "metadata": {},
   "source": [
    "Firstly, we need to import the libraries required in the application."
   ]
  },
  {
   "cell_type": "code",
   "execution_count": 1,
   "id": "521afaff",
   "metadata": {},
   "outputs": [],
   "source": [
    "# Import libraries\n",
    "from sklearn import datasets\n",
    "from sklearn.model_selection import train_test_split\n",
    "import numpy as np\n",
    "from sklearn.tree import DecisionTreeClassifier\n",
    "from sklearn.metrics import accuracy_score"
   ]
  },
  {
   "cell_type": "markdown",
   "id": "6892872b",
   "metadata": {},
   "source": [
    "Next, the Iris dataset is loaded and split randomly into 80% training data and 20% test data."
   ]
  },
  {
   "cell_type": "code",
   "execution_count": 2,
   "id": "180b19db",
   "metadata": {},
   "outputs": [],
   "source": [
    "# Load the Iris dataset\n",
    "iris = datasets.load_iris()\n",
    "X, y = iris.data, iris.target\n",
    "\n",
    "# Split the dataset into training and testing sets\n",
    "X_train, X_test, y_train, y_test = train_test_split(X, y, test_size=0.2)"
   ]
  },
  {
   "attachments": {},
   "cell_type": "markdown",
   "id": "c873c295",
   "metadata": {},
   "source": [
    "The kNN function is designed to take the training data (X_train, y_train) and apply the kNN algorithm to predict labels for the test set (X_test). The kNN_predict function calculates the Euclidean distance between a test point and all training points. The labels of the k-nearest neighbors are then considered, and the most common label is assigned to the test point."
   ]
  },
  {
   "cell_type": "code",
   "execution_count": 3,
   "id": "ef0988a9",
   "metadata": {},
   "outputs": [],
   "source": [
    "# Function to predict all values\n",
    "def kNN(X_train, y_train, X_test):\n",
    "    # Use kNN_predict for each test instance and store the predictions\n",
    "    predictions = [kNN_predict(X_train, y_train, x) for x in X_test]\n",
    "    return np.array(predictions)\n",
    "\n",
    "# Function to predict each value\n",
    "def kNN_predict(X_train, y_train, x_test):\n",
    "    # Calculate Euclidean distances between the test instance and all training instances\n",
    "    distances = [euclidean_distance(x, x_test) for x in X_train]\n",
    "    \n",
    "    # Get indices of the k-nearest neighbors\n",
    "    k_indices = np.argsort(distances)[:3]\n",
    "    \n",
    "    # Get labels of the k-nearest neighbors\n",
    "    k_nearest_labels = [y_train[i] for i in k_indices]\n",
    "    \n",
    "    # Find the most common label among the k-nearest neighbors\n",
    "    most_common = np.bincount(k_nearest_labels).argmax()\n",
    "    \n",
    "    return most_common\n",
    "\n",
    "# Function to calculate Euclidean distance\n",
    "def euclidean_distance(x1, x2):\n",
    "    return np.sqrt(np.sum((x1 - x2) ** 2))\n",
    "\n",
    "# Use kNN to make predictions on the test set\n",
    "y_pred_knn = kNN(X_train, y_train, X_test)"
   ]
  },
  {
   "attachments": {},
   "cell_type": "markdown",
   "id": "2fb11653",
   "metadata": {},
   "source": [
    "The Decision Trees algorithm is employed using the scikit-learn library. The DecisionTreeClassifier class is used to create the model, and the model is trained on the training set (X_train, y_train) using the fit method. Predictions for the test set are generated using the predict method."
   ]
  },
  {
   "cell_type": "code",
   "execution_count": 4,
   "id": "095c9b02",
   "metadata": {},
   "outputs": [],
   "source": [
    "# Create a Decision Tree model\n",
    "dt_model = DecisionTreeClassifier()\n",
    "\n",
    "# Train the Decision Tree model on the training set\n",
    "dt_model.fit(X_train, y_train)\n",
    "\n",
    "# Use the trained Decision Tree to make predictions on the test set\n",
    "y_pred_dt = dt_model.predict(X_test)"
   ]
  },
  {
   "cell_type": "markdown",
   "id": "c842c876",
   "metadata": {},
   "source": [
    "Lastly, the accuracy scores of the kNN and Decision Trees algorithms are calculated and displayed using the accuracy_score function from the sklearn.metrics module."
   ]
  },
  {
   "cell_type": "code",
   "execution_count": 5,
   "id": "7c746df9",
   "metadata": {
    "scrolled": true
   },
   "outputs": [
    {
     "name": "stdout",
     "output_type": "stream",
     "text": [
      "kNN algorithm\n",
      "-------------\n",
      "Actual data: [1 0 2 0 0 1 0 1 2 2 1 1 0 1 2 2 0 0 0 1 1 1 2 1 1 2 1 0 2 0]\n",
      "Predictions: [1 0 2 0 0 1 0 1 2 2 1 1 0 1 2 2 0 0 0 1 1 1 2 1 1 2 2 0 2 0]\n",
      "Accuracy: 0.9666666666666667\n",
      "\n",
      "Decision Trees algorithm\n",
      "------------------------\n",
      "Actual data: [1 0 2 0 0 1 0 1 2 2 1 1 0 1 2 2 0 0 0 1 1 1 2 1 1 2 1 0 2 0]\n",
      "Predictions: [1 0 2 0 0 1 0 1 2 2 1 1 0 1 2 1 0 0 0 1 1 1 2 1 1 2 2 0 1 0]\n",
      "Accuracy: 0.9\n"
     ]
    }
   ],
   "source": [
    "# Calculate accuracy for kNN and Decision Trees\n",
    "accuracy_knn = accuracy_score(y_test, y_pred_knn)\n",
    "accuracy_dt = accuracy_score(y_test, y_pred_dt)\n",
    "\n",
    "# Print the actual data, predictions and accuracy\n",
    "print('kNN algorithm')\n",
    "print('-------------')\n",
    "print(f'Actual data: {y_test}')\n",
    "print(f'Predictions: {y_pred_knn}')\n",
    "print(f'Accuracy: {accuracy_knn}\\n')\n",
    "\n",
    "print('Decision Trees algorithm')\n",
    "print('------------------------')\n",
    "print(f'Actual data: {y_test}')\n",
    "print(f'Predictions: {y_pred_dt}')\n",
    "print(f'Accuracy: {accuracy_dt}')"
   ]
  },
  {
   "cell_type": "code",
   "execution_count": null,
   "id": "154e47f1",
   "metadata": {},
   "outputs": [],
   "source": []
  }
 ],
 "metadata": {
  "kernelspec": {
   "display_name": "Python 3 (ipykernel)",
   "language": "python",
   "name": "python3"
  },
  "language_info": {
   "codemirror_mode": {
    "name": "ipython",
    "version": 3
   },
   "file_extension": ".py",
   "mimetype": "text/x-python",
   "name": "python",
   "nbconvert_exporter": "python",
   "pygments_lexer": "ipython3",
   "version": "3.11.5"
  }
 },
 "nbformat": 4,
 "nbformat_minor": 5
}
